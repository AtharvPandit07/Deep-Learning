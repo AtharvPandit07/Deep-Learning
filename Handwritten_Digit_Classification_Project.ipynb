{
  "nbformat": 4,
  "nbformat_minor": 0,
  "metadata": {
    "colab": {
      "provenance": [],
      "gpuType": "T4",
      "authorship_tag": "ABX9TyN9Y7vjlyvl4yH68OOzw5Gu",
      "include_colab_link": true
    },
    "kernelspec": {
      "name": "python3",
      "display_name": "Python 3"
    },
    "language_info": {
      "name": "python"
    },
    "accelerator": "GPU"
  },
  "cells": [
    {
      "cell_type": "markdown",
      "metadata": {
        "id": "view-in-github",
        "colab_type": "text"
      },
      "source": [
        "<a href=\"https://colab.research.google.com/github/AtharvPandit07/Deep-Learning/blob/main/Handwritten_Digit_Classification_Project.ipynb\" target=\"_parent\"><img src=\"https://colab.research.google.com/assets/colab-badge.svg\" alt=\"Open In Colab\"/></a>"
      ]
    },
    {
      "cell_type": "markdown",
      "source": [
        "CNN:-HandWritten Digi Classification Project\n"
      ],
      "metadata": {
        "id": "i3OSKQloi14H"
      }
    },
    {
      "cell_type": "code",
      "source": [
        "from warnings import  filterwarnings\n",
        "filterwarnings('ignore')"
      ],
      "metadata": {
        "id": "n-kMSoFqi1jJ"
      },
      "execution_count": 24,
      "outputs": []
    },
    {
      "cell_type": "markdown",
      "source": [
        "Load MINST Dataset"
      ],
      "metadata": {
        "id": "pH5Ml7GIjTvq"
      }
    },
    {
      "cell_type": "code",
      "execution_count": 34,
      "metadata": {
        "id": "HC_EmRpndXHD"
      },
      "outputs": [],
      "source": [
        "from keras.datasets import mnist\n",
        "(x_train,y_train),(x_test,y_test)=mnist.load_data()"
      ]
    },
    {
      "cell_type": "code",
      "source": [
        "x_train"
      ],
      "metadata": {
        "colab": {
          "base_uri": "https://localhost:8080/"
        },
        "id": "H9szaEIEjbn5",
        "outputId": "6bc07da0-d83a-496a-f308-95e3360b8fe5"
      },
      "execution_count": 35,
      "outputs": [
        {
          "output_type": "execute_result",
          "data": {
            "text/plain": [
              "array([[[0, 0, 0, ..., 0, 0, 0],\n",
              "        [0, 0, 0, ..., 0, 0, 0],\n",
              "        [0, 0, 0, ..., 0, 0, 0],\n",
              "        ...,\n",
              "        [0, 0, 0, ..., 0, 0, 0],\n",
              "        [0, 0, 0, ..., 0, 0, 0],\n",
              "        [0, 0, 0, ..., 0, 0, 0]],\n",
              "\n",
              "       [[0, 0, 0, ..., 0, 0, 0],\n",
              "        [0, 0, 0, ..., 0, 0, 0],\n",
              "        [0, 0, 0, ..., 0, 0, 0],\n",
              "        ...,\n",
              "        [0, 0, 0, ..., 0, 0, 0],\n",
              "        [0, 0, 0, ..., 0, 0, 0],\n",
              "        [0, 0, 0, ..., 0, 0, 0]],\n",
              "\n",
              "       [[0, 0, 0, ..., 0, 0, 0],\n",
              "        [0, 0, 0, ..., 0, 0, 0],\n",
              "        [0, 0, 0, ..., 0, 0, 0],\n",
              "        ...,\n",
              "        [0, 0, 0, ..., 0, 0, 0],\n",
              "        [0, 0, 0, ..., 0, 0, 0],\n",
              "        [0, 0, 0, ..., 0, 0, 0]],\n",
              "\n",
              "       ...,\n",
              "\n",
              "       [[0, 0, 0, ..., 0, 0, 0],\n",
              "        [0, 0, 0, ..., 0, 0, 0],\n",
              "        [0, 0, 0, ..., 0, 0, 0],\n",
              "        ...,\n",
              "        [0, 0, 0, ..., 0, 0, 0],\n",
              "        [0, 0, 0, ..., 0, 0, 0],\n",
              "        [0, 0, 0, ..., 0, 0, 0]],\n",
              "\n",
              "       [[0, 0, 0, ..., 0, 0, 0],\n",
              "        [0, 0, 0, ..., 0, 0, 0],\n",
              "        [0, 0, 0, ..., 0, 0, 0],\n",
              "        ...,\n",
              "        [0, 0, 0, ..., 0, 0, 0],\n",
              "        [0, 0, 0, ..., 0, 0, 0],\n",
              "        [0, 0, 0, ..., 0, 0, 0]],\n",
              "\n",
              "       [[0, 0, 0, ..., 0, 0, 0],\n",
              "        [0, 0, 0, ..., 0, 0, 0],\n",
              "        [0, 0, 0, ..., 0, 0, 0],\n",
              "        ...,\n",
              "        [0, 0, 0, ..., 0, 0, 0],\n",
              "        [0, 0, 0, ..., 0, 0, 0],\n",
              "        [0, 0, 0, ..., 0, 0, 0]]], dtype=uint8)"
            ]
          },
          "metadata": {},
          "execution_count": 35
        }
      ]
    },
    {
      "cell_type": "code",
      "source": [
        "y_train"
      ],
      "metadata": {
        "colab": {
          "base_uri": "https://localhost:8080/"
        },
        "id": "VVkXK_CRjeCd",
        "outputId": "22339820-0c50-45d7-dc82-4737b72d31c4"
      },
      "execution_count": 36,
      "outputs": [
        {
          "output_type": "execute_result",
          "data": {
            "text/plain": [
              "array([5, 0, 4, ..., 5, 6, 8], dtype=uint8)"
            ]
          },
          "metadata": {},
          "execution_count": 36
        }
      ]
    },
    {
      "cell_type": "code",
      "source": [
        "import matplotlib.pyplot as plt\n",
        "plt.imshow(x_train[0],cmap='gray')"
      ],
      "metadata": {
        "colab": {
          "base_uri": "https://localhost:8080/",
          "height": 447
        },
        "id": "ij28KYIWjhPW",
        "outputId": "fc41aac9-627b-4d4c-e40f-d4194b212183"
      },
      "execution_count": 37,
      "outputs": [
        {
          "output_type": "execute_result",
          "data": {
            "text/plain": [
              "<matplotlib.image.AxesImage at 0x7ae474b383d0>"
            ]
          },
          "metadata": {},
          "execution_count": 37
        },
        {
          "output_type": "display_data",
          "data": {
            "text/plain": [
              "<Figure size 640x480 with 1 Axes>"
            ],
            "image/png": "[encoded data removed]"
          },
          "metadata": {}
        }
      ]
    },
    {
      "cell_type": "code",
      "source": [
        "plt.imshow(x_test[0],cmap='gray')"
      ],
      "metadata": {
        "colab": {
          "base_uri": "https://localhost:8080/",
          "height": 447
        },
        "id": "lF3NYp5cjsLz",
        "outputId": "206e0c67-3024-4532-9bfe-4486a310b6a9"
      },
      "execution_count": 38,
      "outputs": [
        {
          "output_type": "execute_result",
          "data": {
            "text/plain": [
              "<matplotlib.image.AxesImage at 0x7ae474b1a620>"
            ]
          },
          "metadata": {},
          "execution_count": 38
        },
        {
          "output_type": "display_data",
          "data": {
            "text/plain": [
              "<Figure size 640x480 with 1 Axes>"
            ],
            "image/png": "[encoded data removed]"
          },
          "metadata": {}
        }
      ]
    },
    {
      "cell_type": "markdown",
      "source": [
        "### Display first 9 images from train data"
      ],
      "metadata": {
        "id": "VhawsfXEkZiE"
      }
    },
    {
      "cell_type": "code",
      "source": [
        "plt.figure(figsize=(10, 10))\n",
        "for i in range(9):\n",
        "    plt.subplot(3, 3, i+1)\n",
        "    plt.imshow(x_train[i], cmap='gray')\n",
        "    plt.title(f\"Label : {y_train[i]}\")"
      ],
      "metadata": {
        "colab": {
          "base_uri": "https://localhost:8080/",
          "height": 853
        },
        "id": "Sg-c0ouej6Ta",
        "outputId": "df33fc23-8cca-4aab-9768-a9c7a80dbb06"
      },
      "execution_count": 40,
      "outputs": [
        {
          "output_type": "display_data",
          "data": {
            "text/plain": [
              "<Figure size 1000x1000 with 9 Axes>"
            ],
            "image/png": "[encoded data removed]"
          },
          "metadata": {}
        }
      ]
    },
    {
      "cell_type": "code",
      "source": [
        "import numpy as np\n",
        "np.unique(y_train)"
      ],
      "metadata": {
        "colab": {
          "base_uri": "https://localhost:8080/"
        },
        "id": "JeebZ03Ikwf7",
        "outputId": "ed0d62c3-2bb0-40b2-804c-9c84c482c31e"
      },
      "execution_count": 41,
      "outputs": [
        {
          "output_type": "execute_result",
          "data": {
            "text/plain": [
              "array([0, 1, 2, 3, 4, 5, 6, 7, 8, 9], dtype=uint8)"
            ]
          },
          "metadata": {},
          "execution_count": 41
        }
      ]
    },
    {
      "cell_type": "markdown",
      "source": [
        "###This is multiclass classification problem"
      ],
      "metadata": {
        "id": "-MMSfroNvm8e"
      }
    },
    {
      "cell_type": "markdown",
      "source": [
        "### Pre process image data"
      ],
      "metadata": {
        "id": "ocQ3mgDuvsGk"
      }
    },
    {
      "cell_type": "markdown",
      "source": [
        "### Pixel value -0-255"
      ],
      "metadata": {
        "id": "V0QPqHsYvx5y"
      }
    },
    {
      "cell_type": "code",
      "source": [
        "x_train_scl =x_train.astype('float32')/255\n",
        "x_test_scl =x_test.astype('float32')/255"
      ],
      "metadata": {
        "id": "YKPGPyR-vj5M"
      },
      "execution_count": 42,
      "outputs": []
    },
    {
      "cell_type": "code",
      "source": [
        "x_train_scl[0]"
      ],
      "metadata": {
        "colab": {
          "base_uri": "https://localhost:8080/"
        },
        "id": "cMiN4AIWv8Ai",
        "outputId": "0badcad9-cc45-49ef-d77d-212dc2f458e3"
      },
      "execution_count": 44,
      "outputs": [
        {
          "output_type": "execute_result",
          "data": {
            "text/plain": [
              "array([[0.        , 0.        , 0.        , 0.        , 0.        ,\n",
              "        0.        , 0.        , 0.        , 0.        , 0.        ,\n",
              "        0.        , 0.        , 0.        , 0.        , 0.        ,\n",
              "        0.        , 0.        , 0.        , 0.        , 0.        ,\n",
              "        0.        , 0.        , 0.        , 0.        , 0.        ,\n",
              "        0.        , 0.        , 0.        ],\n",
              "       [0.        , 0.        , 0.        , 0.        , 0.        ,\n",
              "        0.        , 0.        , 0.        , 0.        , 0.        ,\n",
              "        0.        , 0.        , 0.        , 0.        , 0.        ,\n",
              "        0.        , 0.        , 0.        , 0.        , 0.        ,\n",
              "        0.        , 0.        , 0.        , 0.        , 0.        ,\n",
              "        0.        , 0.        , 0.        ],\n",
              "       [0.        , 0.        , 0.        , 0.        , 0.        ,\n",
              "        0.        , 0.        , 0.        , 0.        , 0.        ,\n",
              "        0.        , 0.        , 0.        , 0.        , 0.        ,\n",
              "        0.        , 0.        , 0.        , 0.        , 0.        ,\n",
              "        0.        , 0.        , 0.        , 0.        , 0.        ,\n",
              "        0.        , 0.        , 0.        ],\n",
              "       [0.        , 0.        , 0.        , 0.        , 0.        ,\n",
              "        0.        , 0.        , 0.        , 0.        , 0.        ,\n",
              "        0.        , 0.        , 0.        , 0.        , 0.        ,\n",
              "        0.        , 0.        , 0.        , 0.        , 0.        ,\n",
              "        0.        , 0.        , 0.        , 0.        , 0.        ,\n",
              "        0.        , 0.        , 0.        ],\n",
              "       [0.        , 0.        , 0.        , 0.        , 0.        ,\n",
              "        0.        , 0.        , 0.        , 0.        , 0.        ,\n",
              "        0.        , 0.        , 0.        , 0.        , 0.        ,\n",
              "        0.        , 0.        , 0.        , 0.        , 0.        ,\n",
              "        0.        , 0.        , 0.        , 0.        , 0.        ,\n",
              "        0.        , 0.        , 0.        ],\n",
              "       [0.        , 0.        , 0.        , 0.        , 0.        ,\n",
              "        0.        , 0.        , 0.        , 0.        , 0.        ,\n",
              "        0.        , 0.        , 0.01176471, 0.07058824, 0.07058824,\n",
              "        0.07058824, 0.49411765, 0.53333336, 0.6862745 , 0.10196079,\n",
              "        0.6509804 , 1.        , 0.96862745, 0.49803922, 0.        ,\n",
              "        0.        , 0.        , 0.        ],\n",
              "       [0.        , 0.        , 0.        , 0.        , 0.        ,\n",
              "        0.        , 0.        , 0.        , 0.11764706, 0.14117648,\n",
              "        0.36862746, 0.6039216 , 0.6666667 , 0.99215686, 0.99215686,\n",
              "        0.99215686, 0.99215686, 0.99215686, 0.88235295, 0.6745098 ,\n",
              "        0.99215686, 0.9490196 , 0.7647059 , 0.2509804 , 0.        ,\n",
              "        0.        , 0.        , 0.        ],\n",
              "       [0.        , 0.        , 0.        , 0.        , 0.        ,\n",
              "        0.        , 0.        , 0.19215687, 0.93333334, 0.99215686,\n",
              "        0.99215686, 0.99215686, 0.99215686, 0.99215686, 0.99215686,\n",
              "        0.99215686, 0.99215686, 0.9843137 , 0.3647059 , 0.32156864,\n",
              "        0.32156864, 0.21960784, 0.15294118, 0.        , 0.        ,\n",
              "        0.        , 0.        , 0.        ],\n",
              "       [0.        , 0.        , 0.        , 0.        , 0.        ,\n",
              "        0.        , 0.        , 0.07058824, 0.85882354, 0.99215686,\n",
              "        0.99215686, 0.99215686, 0.99215686, 0.99215686, 0.7764706 ,\n",
              "        0.7137255 , 0.96862745, 0.94509804, 0.        , 0.        ,\n",
              "        0.        , 0.        , 0.        , 0.        , 0.        ,\n",
              "        0.        , 0.        , 0.        ],\n",
              "       [0.        , 0.        , 0.        , 0.        , 0.        ,\n",
              "        0.        , 0.        , 0.        , 0.3137255 , 0.6117647 ,\n",
              "        0.41960785, 0.99215686, 0.99215686, 0.8039216 , 0.04313726,\n",
              "        0.        , 0.16862746, 0.6039216 , 0.        , 0.        ,\n",
              "        0.        , 0.        , 0.        , 0.        , 0.        ,\n",
              "        0.        , 0.        , 0.        ],\n",
              "       [0.        , 0.        , 0.        , 0.        , 0.        ,\n",
              "        0.        , 0.        , 0.        , 0.        , 0.05490196,\n",
              "        0.00392157, 0.6039216 , 0.99215686, 0.3529412 , 0.        ,\n",
              "        0.        , 0.        , 0.        , 0.        , 0.        ,\n",
              "        0.        , 0.        , 0.        , 0.        , 0.        ,\n",
              "        0.        , 0.        , 0.        ],\n",
              "       [0.        , 0.        , 0.        , 0.        , 0.        ,\n",
              "        0.        , 0.        , 0.        , 0.        , 0.        ,\n",
              "        0.        , 0.54509807, 0.99215686, 0.74509805, 0.00784314,\n",
              "        0.        , 0.        , 0.        , 0.        , 0.        ,\n",
              "        0.        , 0.        , 0.        , 0.        , 0.        ,\n",
              "        0.        , 0.        , 0.        ],\n",
              "       [0.        , 0.        , 0.        , 0.        , 0.        ,\n",
              "        0.        , 0.        , 0.        , 0.        , 0.        ,\n",
              "        0.        , 0.04313726, 0.74509805, 0.99215686, 0.27450982,\n",
              "        0.        , 0.        , 0.        , 0.        , 0.        ,\n",
              "        0.        , 0.        , 0.        , 0.        , 0.        ,\n",
              "        0.        , 0.        , 0.        ],\n",
              "       [0.        , 0.        , 0.        , 0.        , 0.        ,\n",
              "        0.        , 0.        , 0.        , 0.        , 0.        ,\n",
              "        0.        , 0.        , 0.13725491, 0.94509804, 0.88235295,\n",
              "        0.627451  , 0.42352942, 0.00392157, 0.        , 0.        ,\n",
              "        0.        , 0.        , 0.        , 0.        , 0.        ,\n",
              "        0.        , 0.        , 0.        ],\n",
              "       [0.        , 0.        , 0.        , 0.        , 0.        ,\n",
              "        0.        , 0.        , 0.        , 0.        , 0.        ,\n",
              "        0.        , 0.        , 0.        , 0.31764707, 0.9411765 ,\n",
              "        0.99215686, 0.99215686, 0.46666667, 0.09803922, 0.        ,\n",
              "        0.        , 0.        , 0.        , 0.        , 0.        ,\n",
              "        0.        , 0.        , 0.        ],\n",
              "       [0.        , 0.        , 0.        , 0.        , 0.        ,\n",
              "        0.        , 0.        , 0.        , 0.        , 0.        ,\n",
              "        0.        , 0.        , 0.        , 0.        , 0.1764706 ,\n",
              "        0.7294118 , 0.99215686, 0.99215686, 0.5882353 , 0.10588235,\n",
              "        0.        , 0.        , 0.        , 0.        , 0.        ,\n",
              "        0.        , 0.        , 0.        ],\n",
              "       [0.        , 0.        , 0.        , 0.        , 0.        ,\n",
              "        0.        , 0.        , 0.        , 0.        , 0.        ,\n",
              "        0.        , 0.        , 0.        , 0.        , 0.        ,\n",
              "        0.0627451 , 0.3647059 , 0.9882353 , 0.99215686, 0.73333335,\n",
              "        0.        , 0.        , 0.        , 0.        , 0.        ,\n",
              "        0.        , 0.        , 0.        ],\n",
              "       [0.        , 0.        , 0.        , 0.        , 0.        ,\n",
              "        0.        , 0.        , 0.        , 0.        , 0.        ,\n",
              "        0.        , 0.        , 0.        , 0.        , 0.        ,\n",
              "        0.        , 0.        , 0.9764706 , 0.99215686, 0.9764706 ,\n",
              "        0.2509804 , 0.        , 0.        , 0.        , 0.        ,\n",
              "        0.        , 0.        , 0.        ],\n",
              "       [0.        , 0.        , 0.        , 0.        , 0.        ,\n",
              "        0.        , 0.        , 0.        , 0.        , 0.        ,\n",
              "        0.        , 0.        , 0.        , 0.        , 0.18039216,\n",
              "        0.50980395, 0.7176471 , 0.99215686, 0.99215686, 0.8117647 ,\n",
              "        0.00784314, 0.        , 0.        , 0.        , 0.        ,\n",
              "        0.        , 0.        , 0.        ],\n",
              "       [0.        , 0.        , 0.        , 0.        , 0.        ,\n",
              "        0.        , 0.        , 0.        , 0.        , 0.        ,\n",
              "        0.        , 0.        , 0.15294118, 0.5803922 , 0.8980392 ,\n",
              "        0.99215686, 0.99215686, 0.99215686, 0.98039216, 0.7137255 ,\n",
              "        0.        , 0.        , 0.        , 0.        , 0.        ,\n",
              "        0.        , 0.        , 0.        ],\n",
              "       [0.        , 0.        , 0.        , 0.        , 0.        ,\n",
              "        0.        , 0.        , 0.        , 0.        , 0.        ,\n",
              "        0.09411765, 0.44705883, 0.8666667 , 0.99215686, 0.99215686,\n",
              "        0.99215686, 0.99215686, 0.7882353 , 0.30588236, 0.        ,\n",
              "        0.        , 0.        , 0.        , 0.        , 0.        ,\n",
              "        0.        , 0.        , 0.        ],\n",
              "       [0.        , 0.        , 0.        , 0.        , 0.        ,\n",
              "        0.        , 0.        , 0.        , 0.09019608, 0.25882354,\n",
              "        0.8352941 , 0.99215686, 0.99215686, 0.99215686, 0.99215686,\n",
              "        0.7764706 , 0.31764707, 0.00784314, 0.        , 0.        ,\n",
              "        0.        , 0.        , 0.        , 0.        , 0.        ,\n",
              "        0.        , 0.        , 0.        ],\n",
              "       [0.        , 0.        , 0.        , 0.        , 0.        ,\n",
              "        0.        , 0.07058824, 0.67058825, 0.85882354, 0.99215686,\n",
              "        0.99215686, 0.99215686, 0.99215686, 0.7647059 , 0.3137255 ,\n",
              "        0.03529412, 0.        , 0.        , 0.        , 0.        ,\n",
              "        0.        , 0.        , 0.        , 0.        , 0.        ,\n",
              "        0.        , 0.        , 0.        ],\n",
              "       [0.        , 0.        , 0.        , 0.        , 0.21568628,\n",
              "        0.6745098 , 0.8862745 , 0.99215686, 0.99215686, 0.99215686,\n",
              "        0.99215686, 0.95686275, 0.52156866, 0.04313726, 0.        ,\n",
              "        0.        , 0.        , 0.        , 0.        , 0.        ,\n",
              "        0.        , 0.        , 0.        , 0.        , 0.        ,\n",
              "        0.        , 0.        , 0.        ],\n",
              "       [0.        , 0.        , 0.        , 0.        , 0.53333336,\n",
              "        0.99215686, 0.99215686, 0.99215686, 0.83137256, 0.5294118 ,\n",
              "        0.5176471 , 0.0627451 , 0.        , 0.        , 0.        ,\n",
              "        0.        , 0.        , 0.        , 0.        , 0.        ,\n",
              "        0.        , 0.        , 0.        , 0.        , 0.        ,\n",
              "        0.        , 0.        , 0.        ],\n",
              "       [0.        , 0.        , 0.        , 0.        , 0.        ,\n",
              "        0.        , 0.        , 0.        , 0.        , 0.        ,\n",
              "        0.        , 0.        , 0.        , 0.        , 0.        ,\n",
              "        0.        , 0.        , 0.        , 0.        , 0.        ,\n",
              "        0.        , 0.        , 0.        , 0.        , 0.        ,\n",
              "        0.        , 0.        , 0.        ],\n",
              "       [0.        , 0.        , 0.        , 0.        , 0.        ,\n",
              "        0.        , 0.        , 0.        , 0.        , 0.        ,\n",
              "        0.        , 0.        , 0.        , 0.        , 0.        ,\n",
              "        0.        , 0.        , 0.        , 0.        , 0.        ,\n",
              "        0.        , 0.        , 0.        , 0.        , 0.        ,\n",
              "        0.        , 0.        , 0.        ],\n",
              "       [0.        , 0.        , 0.        , 0.        , 0.        ,\n",
              "        0.        , 0.        , 0.        , 0.        , 0.        ,\n",
              "        0.        , 0.        , 0.        , 0.        , 0.        ,\n",
              "        0.        , 0.        , 0.        , 0.        , 0.        ,\n",
              "        0.        , 0.        , 0.        , 0.        , 0.        ,\n",
              "        0.        , 0.        , 0.        ]], dtype=float32)"
            ]
          },
          "metadata": {},
          "execution_count": 44
        }
      ]
    },
    {
      "cell_type": "markdown",
      "source": [
        "### One hot encode the Y feature"
      ],
      "metadata": {
        "id": "_UJAtC19wHmu"
      }
    },
    {
      "cell_type": "code",
      "source": [
        "from keras.utils import to_categorical\n",
        "y_train_cat = to_categorical(y_train)\n",
        "y_test_cat = to_categorical(y_test)"
      ],
      "metadata": {
        "id": "EWkFq6aYv-aW"
      },
      "execution_count": 45,
      "outputs": []
    },
    {
      "cell_type": "code",
      "source": [
        "y_train[0:5]"
      ],
      "metadata": {
        "colab": {
          "base_uri": "https://localhost:8080/"
        },
        "id": "uD_bW08pwQ6L",
        "outputId": "a3ac167e-3008-489a-e80e-99731a65fecd"
      },
      "execution_count": 46,
      "outputs": [
        {
          "output_type": "execute_result",
          "data": {
            "text/plain": [
              "array([5, 0, 4, 1, 9], dtype=uint8)"
            ]
          },
          "metadata": {},
          "execution_count": 46
        }
      ]
    },
    {
      "cell_type": "code",
      "source": [
        "y_train_cat[0:5]"
      ],
      "metadata": {
        "colab": {
          "base_uri": "https://localhost:8080/"
        },
        "id": "csOBwBU4wVhC",
        "outputId": "7b319e6e-beac-44d4-e14d-0657947dbc58"
      },
      "execution_count": 47,
      "outputs": [
        {
          "output_type": "execute_result",
          "data": {
            "text/plain": [
              "array([[0., 0., 0., 0., 0., 1., 0., 0., 0., 0.],\n",
              "       [1., 0., 0., 0., 0., 0., 0., 0., 0., 0.],\n",
              "       [0., 0., 0., 0., 1., 0., 0., 0., 0., 0.],\n",
              "       [0., 1., 0., 0., 0., 0., 0., 0., 0., 0.],\n",
              "       [0., 0., 0., 0., 0., 0., 0., 0., 0., 1.]], dtype=float32)"
            ]
          },
          "metadata": {},
          "execution_count": 47
        }
      ]
    },
    {
      "cell_type": "code",
      "source": [
        "y_test_cat[0:5]"
      ],
      "metadata": {
        "colab": {
          "base_uri": "https://localhost:8080/"
        },
        "id": "INpDIuWKwa2S",
        "outputId": "a1dd4d0e-5552-4e15-e359-a9c5c6ac5a37"
      },
      "execution_count": 48,
      "outputs": [
        {
          "output_type": "execute_result",
          "data": {
            "text/plain": [
              "array([[0., 0., 0., 0., 0., 0., 0., 1., 0., 0.],\n",
              "       [0., 0., 1., 0., 0., 0., 0., 0., 0., 0.],\n",
              "       [0., 1., 0., 0., 0., 0., 0., 0., 0., 0.],\n",
              "       [1., 0., 0., 0., 0., 0., 0., 0., 0., 0.],\n",
              "       [0., 0., 0., 0., 1., 0., 0., 0., 0., 0.]], dtype=float32)"
            ]
          },
          "metadata": {},
          "execution_count": 48
        }
      ]
    },
    {
      "cell_type": "code",
      "source": [
        "x_train.shape"
      ],
      "metadata": {
        "colab": {
          "base_uri": "https://localhost:8080/"
        },
        "id": "4F9pO3R8witZ",
        "outputId": "7456a413-8583-4521-de58-8f95d6f9c6c0"
      },
      "execution_count": 49,
      "outputs": [
        {
          "output_type": "execute_result",
          "data": {
            "text/plain": [
              "(60000, 28, 28)"
            ]
          },
          "metadata": {},
          "execution_count": 49
        }
      ]
    },
    {
      "cell_type": "markdown",
      "source": [
        "### Build The Neural Network\n",
        "Simple covnet arhitecture"
      ],
      "metadata": {
        "id": "BP3locd_ws5C"
      }
    },
    {
      "cell_type": "code",
      "source": [
        "from keras.models import Sequential\n",
        "from keras.layers import Input, Conv2D,MaxPooling2D,Dense,Flatten,Dropout"
      ],
      "metadata": {
        "id": "NiHNkUMdwq_g"
      },
      "execution_count": 51,
      "outputs": []
    },
    {
      "cell_type": "code",
      "source": [
        "model = Sequential()\n",
        "\n",
        "# Add  Input Layer\n",
        "model.add(Input(shape=(28,28,1)))\n",
        "\n",
        "# Add  Convolution  Layer 1\n",
        "model.add(Conv2D(filters=32,kernel_size=(3,3),activation='relu'))\n",
        "\n",
        "# add Max pooling 1\n",
        "model.add(MaxPooling2D(pool_size=(2,2)))\n",
        "\n",
        "# Add  Convolution  Layer 2\n",
        "model.add(Conv2D(filters=64,kernel_size=(3,3),activation='relu'))\n",
        "\n",
        "# add Max pooling 2\n",
        "model.add(MaxPooling2D(pool_size=(2,2)))\n",
        "\n",
        "# Add Flatten Layer\n",
        "model.add(Flatten())\n",
        "\n",
        "# Add Dropout Layer\n",
        "model.add(Dropout(0.5))\n",
        "\n",
        "# Add Output Layer\n",
        "model.add(Dense(10,activation='softmax'))\n"
      ],
      "metadata": {
        "id": "B9wIsBJ0xSkZ"
      },
      "execution_count": 53,
      "outputs": []
    },
    {
      "cell_type": "code",
      "source": [
        "model.summary()"
      ],
      "metadata": {
        "colab": {
          "base_uri": "https://localhost:8080/"
        },
        "id": "FAq46RdaycHY",
        "outputId": "6cf0a135-e45f-49a2-f8cb-2b7de6dcac57"
      },
      "execution_count": 54,
      "outputs": [
        {
          "output_type": "stream",
          "name": "stdout",
          "text": [
            "Model: \"sequential\"\n",
            "_________________________________________________________________\n",
            " Layer (type)                Output Shape              Param #   \n",
            "=================================================================\n",
            " conv2d (Conv2D)             (None, 26, 26, 32)        320       \n",
            "                                                                 \n",
            " max_pooling2d (MaxPooling2  (None, 13, 13, 32)        0         \n",
            " D)                                                              \n",
            "                                                                 \n",
            " conv2d_1 (Conv2D)           (None, 11, 11, 64)        18496     \n",
            "                                                                 \n",
            " max_pooling2d_1 (MaxPoolin  (None, 5, 5, 64)          0         \n",
            " g2D)                                                            \n",
            "                                                                 \n",
            " flatten (Flatten)           (None, 1600)              0         \n",
            "                                                                 \n",
            " dropout (Dropout)           (None, 1600)              0         \n",
            "                                                                 \n",
            " dense (Dense)               (None, 10)                16010     \n",
            "                                                                 \n",
            "=================================================================\n",
            "Total params: 34826 (136.04 KB)\n",
            "Trainable params: 34826 (136.04 KB)\n",
            "Non-trainable params: 0 (0.00 Byte)\n",
            "_________________________________________________________________\n"
          ]
        }
      ]
    },
    {
      "cell_type": "code",
      "source": [
        "model.compile(optimizer='adam',loss='categorical_crossentropy',metrics=['accuracy'])"
      ],
      "metadata": {
        "id": "UWIB66XdytIg"
      },
      "execution_count": 55,
      "outputs": []
    },
    {
      "cell_type": "code",
      "source": [
        "hist = model.fit(x_train_scl,y_train_cat,epochs=15,validation_split=0.1)"
      ],
      "metadata": {
        "colab": {
          "base_uri": "https://localhost:8080/"
        },
        "id": "Qz3RTWySy2vv",
        "outputId": "2e5864b5-c0d5-471e-ade2-60384dadfe9c"
      },
      "execution_count": 56,
      "outputs": [
        {
          "output_type": "stream",
          "name": "stdout",
          "text": [
            "Epoch 1/15\n",
            "1688/1688 [==============================] - 13s 4ms/step - loss: 0.2292 - accuracy: 0.9286 - val_loss: 0.0583 - val_accuracy: 0.9842\n",
            "Epoch 2/15\n",
            "1688/1688 [==============================] - 8s 5ms/step - loss: 0.0830 - accuracy: 0.9737 - val_loss: 0.0443 - val_accuracy: 0.9882\n",
            "Epoch 3/15\n",
            "1688/1688 [==============================] - 7s 4ms/step - loss: 0.0656 - accuracy: 0.9797 - val_loss: 0.0368 - val_accuracy: 0.9898\n",
            "Epoch 4/15\n",
            "1688/1688 [==============================] - 8s 5ms/step - loss: 0.0552 - accuracy: 0.9822 - val_loss: 0.0337 - val_accuracy: 0.9907\n",
            "Epoch 5/15\n",
            "1688/1688 [==============================] - 7s 4ms/step - loss: 0.0497 - accuracy: 0.9845 - val_loss: 0.0298 - val_accuracy: 0.9932\n",
            "Epoch 6/15\n",
            "1688/1688 [==============================] - 7s 4ms/step - loss: 0.0464 - accuracy: 0.9847 - val_loss: 0.0306 - val_accuracy: 0.9925\n",
            "Epoch 7/15\n",
            "1688/1688 [==============================] - 8s 5ms/step - loss: 0.0408 - accuracy: 0.9870 - val_loss: 0.0286 - val_accuracy: 0.9935\n",
            "Epoch 8/15\n",
            "1688/1688 [==============================] - 8s 5ms/step - loss: 0.0390 - accuracy: 0.9874 - val_loss: 0.0282 - val_accuracy: 0.9925\n",
            "Epoch 9/15\n",
            "1688/1688 [==============================] - 7s 4ms/step - loss: 0.0365 - accuracy: 0.9878 - val_loss: 0.0272 - val_accuracy: 0.9928\n",
            "Epoch 10/15\n",
            "1688/1688 [==============================] - 7s 4ms/step - loss: 0.0338 - accuracy: 0.9891 - val_loss: 0.0260 - val_accuracy: 0.9937\n",
            "Epoch 11/15\n",
            "1688/1688 [==============================] - 7s 4ms/step - loss: 0.0322 - accuracy: 0.9894 - val_loss: 0.0262 - val_accuracy: 0.9932\n",
            "Epoch 12/15\n",
            "1688/1688 [==============================] - 7s 4ms/step - loss: 0.0299 - accuracy: 0.9905 - val_loss: 0.0268 - val_accuracy: 0.9932\n",
            "Epoch 13/15\n",
            "1688/1688 [==============================] - 6s 4ms/step - loss: 0.0297 - accuracy: 0.9904 - val_loss: 0.0238 - val_accuracy: 0.9938\n",
            "Epoch 14/15\n",
            "1688/1688 [==============================] - 8s 4ms/step - loss: 0.0289 - accuracy: 0.9905 - val_loss: 0.0274 - val_accuracy: 0.9930\n",
            "Epoch 15/15\n",
            "1688/1688 [==============================] - 6s 4ms/step - loss: 0.0255 - accuracy: 0.9916 - val_loss: 0.0255 - val_accuracy: 0.9940\n"
          ]
        }
      ]
    },
    {
      "cell_type": "markdown",
      "source": [
        "Plot the learning Curve"
      ],
      "metadata": {
        "id": "Y4XOQiQCzr0Y"
      }
    },
    {
      "cell_type": "code",
      "source": [
        "plt.figure(figsize=(12,8))\n",
        "plt.plot(hist.history['loss'],label='Train loss')\n",
        "plt.plot(hist.history['val_loss'],label='Validation loss')\n",
        "plt.title('Learning Curve')\n",
        "plt.ylabel('Categorical Crossentropy  loss')\n",
        "plt.xlabel('Epoch')\n",
        "plt.legend()\n",
        "plt.show()"
      ],
      "metadata": {
        "colab": {
          "base_uri": "https://localhost:8080/",
          "height": 611
        },
        "id": "EluEhYLwzLSQ",
        "outputId": "f03f856e-3ea9-4982-a762-aff544f08878"
      },
      "execution_count": 59,
      "outputs": [
        {
          "output_type": "display_data",
          "data": {
            "text/plain": [
              "<Figure size 1200x800 with 1 Axes>"
            ],
            "image/png": "[encoded data removed]"
          },
          "metadata": {}
        }
      ]
    },
    {
      "cell_type": "markdown",
      "source": [
        "# Evaluate the model in train test"
      ],
      "metadata": {
        "id": "ZbGRNKJU0tGf"
      }
    },
    {
      "cell_type": "code",
      "source": [
        "model.evaluate(x_train_scl,y_train_cat)"
      ],
      "metadata": {
        "colab": {
          "base_uri": "https://localhost:8080/"
        },
        "id": "TXYZCHgC0SCG",
        "outputId": "66832063-afe6-4ba7-c966-7c807a9cffa1"
      },
      "execution_count": 62,
      "outputs": [
        {
          "output_type": "stream",
          "name": "stdout",
          "text": [
            "1875/1875 [==============================] - 5s 3ms/step - loss: 0.0096 - accuracy: 0.9971\n"
          ]
        },
        {
          "output_type": "execute_result",
          "data": {
            "text/plain": [
              "[0.009567738510668278, 0.9971166849136353]"
            ]
          },
          "metadata": {},
          "execution_count": 62
        }
      ]
    },
    {
      "cell_type": "code",
      "source": [
        "model.evaluate(x_test_scl,y_test_cat)"
      ],
      "metadata": {
        "colab": {
          "base_uri": "https://localhost:8080/"
        },
        "id": "53gzHQy8092x",
        "outputId": "b2dd91b3-9e8b-44b7-97e4-ae95472a7729"
      },
      "execution_count": 63,
      "outputs": [
        {
          "output_type": "stream",
          "name": "stdout",
          "text": [
            "313/313 [==============================] - 1s 3ms/step - loss: 0.0217 - accuracy: 0.9929\n"
          ]
        },
        {
          "output_type": "execute_result",
          "data": {
            "text/plain": [
              "[0.02168409898877144, 0.992900013923645]"
            ]
          },
          "metadata": {},
          "execution_count": 63
        }
      ]
    },
    {
      "cell_type": "markdown",
      "source": [
        "## Predict Result for train and test"
      ],
      "metadata": {
        "id": "pdbIUaZO1QIa"
      }
    },
    {
      "cell_type": "code",
      "source": [
        "yprob_train = model.predict(x_train_scl)\n",
        "yprob_test = model.predict(x_test_scl)"
      ],
      "metadata": {
        "colab": {
          "base_uri": "https://localhost:8080/"
        },
        "id": "6FLmqLwh1M8p",
        "outputId": "b6c50707-6685-49e5-e76e-97f2e2eb2267"
      },
      "execution_count": 64,
      "outputs": [
        {
          "output_type": "stream",
          "name": "stdout",
          "text": [
            "1875/1875 [==============================] - 4s 2ms/step\n",
            "313/313 [==============================] - 1s 2ms/step\n"
          ]
        }
      ]
    },
    {
      "cell_type": "code",
      "source": [
        "yprob_train[0:5]"
      ],
      "metadata": {
        "colab": {
          "base_uri": "https://localhost:8080/"
        },
        "id": "QeMMYCKF1bAA",
        "outputId": "57a6a6d2-c951-448f-f219-14367b8f48b0"
      },
      "execution_count": 65,
      "outputs": [
        {
          "output_type": "execute_result",
          "data": {
            "text/plain": [
              "array([[1.0633704e-12, 4.3450356e-13, 5.8833960e-10, 5.3075806e-04,\n",
              "        2.0460072e-14, 9.9946862e-01, 1.1508372e-12, 9.5148636e-09,\n",
              "        3.3187529e-08, 6.0906336e-07],\n",
              "       [9.9999976e-01, 7.1978312e-18, 2.2909141e-07, 1.3106660e-13,\n",
              "        2.6300823e-13, 2.4681713e-13, 1.3123051e-08, 1.5823456e-14,\n",
              "        2.5944447e-08, 5.9731722e-09],\n",
              "       [4.4810335e-16, 4.3679993e-08, 1.7692959e-09, 1.3915934e-11,\n",
              "        9.9999917e-01, 4.4438498e-11, 3.1777513e-13, 8.1786652e-08,\n",
              "        7.4166202e-09, 7.6382986e-07],\n",
              "       [9.0596401e-08, 9.9994934e-01, 4.2025099e-06, 1.9383547e-11,\n",
              "        1.1958395e-05, 1.0513325e-09, 1.1218942e-06, 1.2790477e-05,\n",
              "        2.0427531e-05, 5.5354068e-08],\n",
              "       [8.9369579e-12, 9.8553986e-12, 3.4208408e-10, 8.2647766e-10,\n",
              "        9.8247619e-06, 5.0802543e-11, 1.4668075e-14, 6.1799042e-08,\n",
              "        3.9064347e-05, 9.9995100e-01]], dtype=float32)"
            ]
          },
          "metadata": {},
          "execution_count": 65
        }
      ]
    },
    {
      "cell_type": "code",
      "source": [
        "\n",
        "yprob_test[0:5]"
      ],
      "metadata": {
        "colab": {
          "base_uri": "https://localhost:8080/"
        },
        "id": "znjrZF0A11WZ",
        "outputId": "bb006937-fd71-41c4-b755-662d5060fe98"
      },
      "execution_count": 66,
      "outputs": [
        {
          "output_type": "execute_result",
          "data": {
            "text/plain": [
              "array([[2.4698165e-11, 4.3530622e-12, 4.4134680e-07, 1.8148999e-08,\n",
              "        3.9381374e-15, 3.9264581e-12, 9.4521277e-19, 9.9999940e-01,\n",
              "        1.5448738e-10, 7.2785184e-08],\n",
              "       [3.2419706e-07, 5.9315070e-08, 9.9999940e-01, 1.4876531e-10,\n",
              "        1.4684708e-11, 3.8673038e-15, 2.7843251e-07, 1.2220327e-14,\n",
              "        3.4079129e-08, 1.3980650e-13],\n",
              "       [5.8456912e-08, 9.9984169e-01, 2.2894656e-06, 9.4338475e-09,\n",
              "        1.2897086e-04, 7.1359601e-08, 1.0467172e-06, 6.0867424e-06,\n",
              "        1.9676936e-05, 8.2137213e-08],\n",
              "       [9.9976701e-01, 3.3572802e-16, 3.5188251e-07, 7.4815221e-10,\n",
              "        3.5176922e-10, 7.3787994e-08, 2.1413267e-04, 4.8069461e-12,\n",
              "        1.6295860e-05, 2.1715985e-06],\n",
              "       [8.2178667e-11, 9.1604654e-13, 1.9009610e-11, 4.0418539e-13,\n",
              "        9.9999678e-01, 3.2339997e-12, 1.0848743e-10, 5.9763479e-12,\n",
              "        4.2426107e-09, 3.2447911e-06]], dtype=float32)"
            ]
          },
          "metadata": {},
          "execution_count": 66
        }
      ]
    },
    {
      "cell_type": "code",
      "source": [
        "\n",
        "import numpy as np\n",
        "ypred_train = np.argmax(yprob_train, axis=1)\n",
        "ypred_test = np.argmax(yprob_test, axis=1)"
      ],
      "metadata": {
        "id": "D7qeHOKX142G"
      },
      "execution_count": 67,
      "outputs": []
    },
    {
      "cell_type": "code",
      "source": [
        "\n",
        "ypred_train[0:5]"
      ],
      "metadata": {
        "colab": {
          "base_uri": "https://localhost:8080/"
        },
        "id": "hcpyJNqC19WA",
        "outputId": "7a5e4459-7107-4726-8243-a3d3a2697a66"
      },
      "execution_count": 68,
      "outputs": [
        {
          "output_type": "execute_result",
          "data": {
            "text/plain": [
              "array([5, 0, 4, 1, 9])"
            ]
          },
          "metadata": {},
          "execution_count": 68
        }
      ]
    },
    {
      "cell_type": "code",
      "source": [
        "y_train[0:5]\n",
        ""
      ],
      "metadata": {
        "colab": {
          "base_uri": "https://localhost:8080/"
        },
        "id": "yJO_423a2Akd",
        "outputId": "738c8000-4e3a-49ba-8fb2-7c29744007eb"
      },
      "execution_count": 70,
      "outputs": [
        {
          "output_type": "execute_result",
          "data": {
            "text/plain": [
              "array([5, 0, 4, 1, 9], dtype=uint8)"
            ]
          },
          "metadata": {},
          "execution_count": 70
        }
      ]
    },
    {
      "cell_type": "code",
      "source": [
        "\n",
        "ypred_test[0:5]"
      ],
      "metadata": {
        "colab": {
          "base_uri": "https://localhost:8080/"
        },
        "id": "Z0Ar3uxP2B6F",
        "outputId": "eb5ceb99-1665-4d6e-a37a-ad556c6916a3"
      },
      "execution_count": 71,
      "outputs": [
        {
          "output_type": "execute_result",
          "data": {
            "text/plain": [
              "array([7, 2, 1, 0, 4])"
            ]
          },
          "metadata": {},
          "execution_count": 71
        }
      ]
    },
    {
      "cell_type": "code",
      "source": [
        "\n",
        "y_test[0:5]"
      ],
      "metadata": {
        "colab": {
          "base_uri": "https://localhost:8080/"
        },
        "id": "VKmZtPNK2FZw",
        "outputId": "005cfebd-859e-45c8-9baa-473d2884bdd0"
      },
      "execution_count": 72,
      "outputs": [
        {
          "output_type": "execute_result",
          "data": {
            "text/plain": [
              "array([7, 2, 1, 0, 4], dtype=uint8)"
            ]
          },
          "metadata": {},
          "execution_count": 72
        }
      ]
    },
    {
      "cell_type": "code",
      "source": [
        "\n",
        "from sklearn.metrics import ConfusionMatrixDisplay\n",
        "ConfusionMatrixDisplay.from_predictions(y_test, ypred_test)"
      ],
      "metadata": {
        "colab": {
          "base_uri": "https://localhost:8080/",
          "height": 466
        },
        "id": "S-AnCq5_2Icu",
        "outputId": "b4dbe586-069f-4e9a-9fd4-a65839b6f5f5"
      },
      "execution_count": 74,
      "outputs": [
        {
          "output_type": "execute_result",
          "data": {
            "text/plain": [
              "<sklearn.metrics._plot.confusion_matrix.ConfusionMatrixDisplay at 0x7ae46e4c2a70>"
            ]
          },
          "metadata": {},
          "execution_count": 74
        },
        {
          "output_type": "display_data",
          "data": {
            "text/plain": [
              "<Figure size 640x480 with 2 Axes>"
            ],
            "image/png": "[encoded data removed]"
          },
          "metadata": {}
        }
      ]
    },
    {
      "cell_type": "code",
      "source": [
        "\n",
        "from sklearn.metrics import classification_report\n",
        "print(classification_report(y_test, ypred_test))"
      ],
      "metadata": {
        "colab": {
          "base_uri": "https://localhost:8080/"
        },
        "id": "wBWgocJT2KZ2",
        "outputId": "cff73a1a-1df1-4714-8a15-070953a174e1"
      },
      "execution_count": 77,
      "outputs": [
        {
          "output_type": "stream",
          "name": "stdout",
          "text": [
            "              precision    recall  f1-score   support\n",
            "\n",
            "           0       1.00      1.00      1.00       980\n",
            "           1       1.00      0.99      0.99      1135\n",
            "           2       0.99      1.00      0.99      1032\n",
            "           3       0.99      0.99      0.99      1010\n",
            "           4       1.00      0.99      0.99       982\n",
            "           5       0.98      0.99      0.99       892\n",
            "           6       1.00      0.99      0.99       958\n",
            "           7       0.99      0.99      0.99      1028\n",
            "           8       0.99      0.99      0.99       974\n",
            "           9       0.99      0.99      0.99      1009\n",
            "\n",
            "    accuracy                           0.99     10000\n",
            "   macro avg       0.99      0.99      0.99     10000\n",
            "weighted avg       0.99      0.99      0.99     10000\n",
            "\n"
          ]
        }
      ]
    },
    {
      "cell_type": "code",
      "source": [
        "model.save('digit_model.keras')"
      ],
      "metadata": {
        "id": "wPAdpp6L2Suh"
      },
      "execution_count": 78,
      "outputs": []
    },
    {
      "cell_type": "markdown",
      "source": [
        "### Load above model"
      ],
      "metadata": {
        "id": "s6b4etug2oiH"
      }
    },
    {
      "cell_type": "code",
      "source": [
        "from keras.models import load_model\n",
        "nn= load_model('/content/digit_model.keras')"
      ],
      "metadata": {
        "id": "HiaIbJf72ki6"
      },
      "execution_count": 79,
      "outputs": []
    },
    {
      "cell_type": "code",
      "source": [
        "nn.summary()"
      ],
      "metadata": {
        "colab": {
          "base_uri": "https://localhost:8080/"
        },
        "id": "jLrN0W5422xD",
        "outputId": "ace27b69-ef58-44e0-802a-4029a1ba4bd4"
      },
      "execution_count": 80,
      "outputs": [
        {
          "output_type": "stream",
          "name": "stdout",
          "text": [
            "Model: \"sequential\"\n",
            "_________________________________________________________________\n",
            " Layer (type)                Output Shape              Param #   \n",
            "=================================================================\n",
            " conv2d (Conv2D)             (None, 26, 26, 32)        320       \n",
            "                                                                 \n",
            " max_pooling2d (MaxPooling2  (None, 13, 13, 32)        0         \n",
            " D)                                                              \n",
            "                                                                 \n",
            " conv2d_1 (Conv2D)           (None, 11, 11, 64)        18496     \n",
            "                                                                 \n",
            " max_pooling2d_1 (MaxPoolin  (None, 5, 5, 64)          0         \n",
            " g2D)                                                            \n",
            "                                                                 \n",
            " flatten (Flatten)           (None, 1600)              0         \n",
            "                                                                 \n",
            " dropout (Dropout)           (None, 1600)              0         \n",
            "                                                                 \n",
            " dense (Dense)               (None, 10)                16010     \n",
            "                                                                 \n",
            "=================================================================\n",
            "Total params: 34826 (136.04 KB)\n",
            "Trainable params: 34826 (136.04 KB)\n",
            "Non-trainable params: 0 (0.00 Byte)\n",
            "_________________________________________________________________\n"
          ]
        }
      ]
    },
    {
      "cell_type": "code",
      "source": [
        "# Loading the image\n",
        "\n",
        "import cv2\n",
        "img = cv2.imread('/content/example_img.jpg', cv2.IMREAD_GRAYSCALE)\n",
        "img"
      ],
      "metadata": {
        "colab": {
          "base_uri": "https://localhost:8080/",
          "height": 1000
        },
        "id": "2aIVXVS-25gL",
        "outputId": "9cc27e6f-7fbe-4e42-ab64-132af5ab7a90"
      },
      "execution_count": 81,
      "outputs": [
        {
          "output_type": "execute_result",
          "data": {
            "text/plain": [
              "array([[  1,   1,   0,   1,   0,   0,   2,   0,   2,   0,   0,   2,   0,\n",
              "          0,   2,   1,   1,   0,   0,   0,   3,   0,   0,   1,   0,   0,\n",
              "          0,   0],\n",
              "       [  0,   0,   0,   0,   3,   2,   0,   1,   0,   3,   3,   0,   0,\n",
              "          0,   0,   0,   0,   4,   0,   2,   2,   0,   1,   0,   0,   0,\n",
              "          0,   0],\n",
              "       [  1,   2,   1,   1,   0,   0,   4,   0,   0,   0,   0,   0,   2,\n",
              "          0,   0,   5,   2,   0,   0,   0,   0,   5,   3,   0,   0,   0,\n",
              "          0,   0],\n",
              "       [  0,   0,   1,   0,   2,   2,   0,   2,   0,   1,   1,   0,   0,\n",
              "          1,   0,   0,   0,   6,   0,   2,   0,   0,   0,   0,   0,   0,\n",
              "          0,   0],\n",
              "       [  0,   1,   5,   0,  75, 224, 253, 254, 255, 252, 253, 255, 255,\n",
              "        255, 255, 253, 254, 220, 105,   0,   4,   0,   0,   2,   0,   0,\n",
              "          0,   0],\n",
              "       [  2,   0,   0,   3, 221, 253, 255, 255, 255, 255, 255, 255, 253,\n",
              "        254, 255, 255, 254, 255, 255, 255, 216, 125,   0,   0,   0,   0,\n",
              "          0,   0],\n",
              "       [  0,   0,   0,   0, 123, 253, 255, 254, 254, 255, 253, 253, 255,\n",
              "        255, 252, 253, 255, 255, 255, 254, 255, 254,   0,   1,   0,   0,\n",
              "          0,   0],\n",
              "       [  0,   2,   2,   0,   3,   1,   0,   2,   1,   1,   0,   2,   0,\n",
              "          3,  96, 224, 254, 255, 254, 255, 254, 171,   2,   0,   0,   0,\n",
              "          0,   0],\n",
              "       [  1,   0,   2,   0,   0,   0,   0,   0,   0,   1,   0,   0,  95,\n",
              "        223, 255, 253, 252, 255, 253, 255, 166,  11,   0,   1,   0,   0,\n",
              "          0,   0],\n",
              "       [  0,   0,   0,   0,   0,   2,   0,   0,   2,   0,   0, 132, 253,\n",
              "        253, 255, 255, 255, 255, 165,   8,   4,   0,   0,   1,   0,   0,\n",
              "          0,   0],\n",
              "       [  0,   0,   0,   0,   2,   0,   0,   0,  71, 222, 255, 248, 255,\n",
              "        255, 253, 169,   8,   0,   0,   6,   0,   0,   0,   0,   0,   0,\n",
              "          0,   0],\n",
              "       [  1,   0,   3,   1,   0,   3,   3,  69, 237, 255, 255, 254, 254,\n",
              "        255, 224,  94,   2,   2,   0,   0,   2,   0,   2,   0,   0,   0,\n",
              "          0,   0],\n",
              "       [  1,   1,   0,   1,   1,   0,   0, 225, 254, 251, 255, 253, 255,\n",
              "        255, 249, 255, 219,  96,   2,   0,   1,   0,   2,   0,   0,   0,\n",
              "          0,   0],\n",
              "       [  1,   0,   1,   0,   0,   2,   0, 120, 255, 254, 254, 253, 252,\n",
              "        255, 255, 254, 255, 243, 103,   0,   0,   5,   0,   3,   0,   0,\n",
              "          0,   0],\n",
              "       [  0,   1,   0,   0,   2,   0,   1,   0,   1,   1,   0,   5,   3,\n",
              "        118, 255, 253, 250, 255, 255, 221,  95,   0,   2,   0,   0,   0,\n",
              "          0,   0],\n",
              "       [  0,   0,   0,   4,   0,   1,   0,   1,   0,   0,   3,   0,   3,\n",
              "          0,   0, 121, 255, 255, 252, 255, 248,   0,   0,   1,   0,   0,\n",
              "          0,   0],\n",
              "       [  0,   0,   4,   0,   0,   1,   0,   1,   1,   1,   0,   0,   0,\n",
              "          2,   0,   1,  10, 155, 255, 255, 250,   3,   1,   0,   0,   0,\n",
              "          0,   0],\n",
              "       [  1,   0,   0,   0,   2,   0,   1,   0,   0,   0,   2,   2,   0,\n",
              "          0,   0,   0,   0,   2, 255, 254, 255,   0,   0,   4,   0,   0,\n",
              "          0,   0],\n",
              "       [  0,   3,   2,   0,   1,   2,   3,   0,   1,   0,   0,   1,   0,\n",
              "          0,   3,   2,   2,   0, 254, 255, 254,   2,   2,   0,   0,   0,\n",
              "          0,   0],\n",
              "       [  0,   0,   0,   6,   0,   0,   0,   1,   0,   2,   0,   2,   0,\n",
              "          3,   0,   0,   0,   1, 254, 255, 252,   3,   0,   2,   0,   0,\n",
              "          0,   0],\n",
              "       [  4,   0,   2,   0,   0,   3,  75, 221, 223,  96,   0,   2,   0,\n",
              "          0,   0,   6,   0, 125, 254, 255, 255,   0,   1,   0,   0,   0,\n",
              "          0,   0],\n",
              "       [  0,   5,   1,   0,   0,   1, 216, 255, 255, 243,  98,   0,   2,\n",
              "          2,   0,  72, 224, 255, 255, 255, 166,   0,   4,   0,   0,   0,\n",
              "          0,   0],\n",
              "       [  0,   0,   0,   5,   2,   1, 126, 253, 255, 254, 255, 255, 255,\n",
              "        255, 255, 255, 255, 255, 253, 183,   9,   1,   0,   0,   0,   0,\n",
              "          0,   0],\n",
              "       [  3,   0,   3,   0,   2,   0,   3, 120, 255, 253, 255, 254, 254,\n",
              "        253, 255, 253, 254, 255, 167,   8,   2,   0,   0,   2,   0,   0,\n",
              "          0,   0],\n",
              "       [  0,   0,   0,   0,   0,   0,   0,   0, 121, 253, 255, 254, 252,\n",
              "        255, 251, 255, 255, 147,   2,   0,   0,   2,   2,   0,   0,   0,\n",
              "          0,   0],\n",
              "       [  0,   0,   0,   0,   0,   0,   0,   0,   0,   7,   0,   2,   1,\n",
              "          0,   0,   0,   0,   3,   0,   1,   0,   0,   0,   0,   0,   0,\n",
              "          0,   0],\n",
              "       [  0,   0,   0,   0,   0,   0,   0,   0,   1,   0,   1,   0,   0,\n",
              "          2,   2,   0,   3,   0,   5,   0,   3,   3,   0,   2,   0,   0,\n",
              "          0,   0],\n",
              "       [  0,   0,   0,   0,   0,   0,   0,   0,   1,   7,   1,   0,   0,\n",
              "          0,   0,   2,   0,   0,   0,   0,   0,   0,   0,   3,   0,   0,\n",
              "          0,   0]], dtype=uint8)"
            ],
            "text/html": [
              "<style>\n",
              "      .ndarray_repr .ndarray_raw_data {\n",
              "        display: none;\n",
              "      }\n",
              "      .ndarray_repr.show_array .ndarray_raw_data {\n",
              "        display: block;\n",
              "      }\n",
              "      .ndarray_repr.show_array .ndarray_image_preview {\n",
              "        display: none;\n",
              "      }\n",
              "      </style>\n",
              "      <div id=\"id-d71372fb-5c62-4407-8b56-42c52472dd24\" class=\"ndarray_repr\"><pre>ndarray (28, 28) <button style=\"padding: 0 2px;\">show data</button></pre><img src=\"data:image/png;base64,iVBORw0KGgoAAAANSUhEUgAAABwAAAAcCAAAAABXZoBIAAABbklEQVR4nF2SPW5UQRCEv65+b73AuRBIvgNekSAugGwhE3EDQmKMEAfgKpZg8XIAIifGftNF8P5W7mhGPVVdXTVEECAEAkUACcFcKYLM8dIhzb1QBHQACHoB9DnjAgkRMZJt0EJJ9JweWnlott3q11s6pgeC3Dd77Nhl+/pyxfK+ucqteYSXa1YkkYEiELk7lMv1XYuc+cDZjdvg5qtnR3tODnxszba/bLtjEwS8+O07u33bwmbdhAwyn/+1q3x4JU1mAkQQAX/qwc3+5587HesIEOeuaoNdvn0DPbmoFEEEfb5zu7f3Z0cOdiM8SbiwB9+tajsIIgIQ8fSzfZ+xsDLmp8lsl+cMSRFKxsBSolxaZ24mF0UCUR5yUtQhyNP9zQ4BGy7LXvT0AXFt375G4uXB9tU8EugVH5rLU7UfT2Zgkog8d3NVcyt/3YrjfwRcNNfgB/uTlq3WOkExUgWPawxAJD2Zj2jjJGCdlQD/AQpQsvLcABwNAAAAAElFTkSuQmCC\" class=\"ndarray_image_preview\" /><pre class=\"ndarray_raw_data\">array([[  1,   1,   0,   1,   0,   0,   2,   0,   2,   0,   0,   2,   0,\n",
              "          0,   2,   1,   1,   0,   0,   0,   3,   0,   0,   1,   0,   0,\n",
              "          0,   0],\n",
              "       [  0,   0,   0,   0,   3,   2,   0,   1,   0,   3,   3,   0,   0,\n",
              "          0,   0,   0,   0,   4,   0,   2,   2,   0,   1,   0,   0,   0,\n",
              "          0,   0],\n",
              "       [  1,   2,   1,   1,   0,   0,   4,   0,   0,   0,   0,   0,   2,\n",
              "          0,   0,   5,   2,   0,   0,   0,   0,   5,   3,   0,   0,   0,\n",
              "          0,   0],\n",
              "       [  0,   0,   1,   0,   2,   2,   0,   2,   0,   1,   1,   0,   0,\n",
              "          1,   0,   0,   0,   6,   0,   2,   0,   0,   0,   0,   0,   0,\n",
              "          0,   0],\n",
              "       [  0,   1,   5,   0,  75, 224, 253, 254, 255, 252, 253, 255, 255,\n",
              "        255, 255, 253, 254, 220, 105,   0,   4,   0,   0,   2,   0,   0,\n",
              "          0,   0],\n",
              "       [  2,   0,   0,   3, 221, 253, 255, 255, 255, 255, 255, 255, 253,\n",
              "        254, 255, 255, 254, 255, 255, 255, 216, 125,   0,   0,   0,   0,\n",
              "          0,   0],\n",
              "       [  0,   0,   0,   0, 123, 253, 255, 254, 254, 255, 253, 253, 255,\n",
              "        255, 252, 253, 255, 255, 255, 254, 255, 254,   0,   1,   0,   0,\n",
              "          0,   0],\n",
              "       [  0,   2,   2,   0,   3,   1,   0,   2,   1,   1,   0,   2,   0,\n",
              "          3,  96, 224, 254, 255, 254, 255, 254, 171,   2,   0,   0,   0,\n",
              "          0,   0],\n",
              "       [  1,   0,   2,   0,   0,   0,   0,   0,   0,   1,   0,   0,  95,\n",
              "        223, 255, 253, 252, 255, 253, 255, 166,  11,   0,   1,   0,   0,\n",
              "          0,   0],\n",
              "       [  0,   0,   0,   0,   0,   2,   0,   0,   2,   0,   0, 132, 253,\n",
              "        253, 255, 255, 255, 255, 165,   8,   4,   0,   0,   1,   0,   0,\n",
              "          0,   0],\n",
              "       [  0,   0,   0,   0,   2,   0,   0,   0,  71, 222, 255, 248, 255,\n",
              "        255, 253, 169,   8,   0,   0,   6,   0,   0,   0,   0,   0,   0,\n",
              "          0,   0],\n",
              "       [  1,   0,   3,   1,   0,   3,   3,  69, 237, 255, 255, 254, 254,\n",
              "        255, 224,  94,   2,   2,   0,   0,   2,   0,   2,   0,   0,   0,\n",
              "          0,   0],\n",
              "       [  1,   1,   0,   1,   1,   0,   0, 225, 254, 251, 255, 253, 255,\n",
              "        255, 249, 255, 219,  96,   2,   0,   1,   0,   2,   0,   0,   0,\n",
              "          0,   0],\n",
              "       [  1,   0,   1,   0,   0,   2,   0, 120, 255, 254, 254, 253, 252,\n",
              "        255, 255, 254, 255, 243, 103,   0,   0,   5,   0,   3,   0,   0,\n",
              "          0,   0],\n",
              "       [  0,   1,   0,   0,   2,   0,   1,   0,   1,   1,   0,   5,   3,\n",
              "        118, 255, 253, 250, 255, 255, 221,  95,   0,   2,   0,   0,   0,\n",
              "          0,   0],\n",
              "       [  0,   0,   0,   4,   0,   1,   0,   1,   0,   0,   3,   0,   3,\n",
              "          0,   0, 121, 255, 255, 252, 255, 248,   0,   0,   1,   0,   0,\n",
              "          0,   0],\n",
              "       [  0,   0,   4,   0,   0,   1,   0,   1,   1,   1,   0,   0,   0,\n",
              "          2,   0,   1,  10, 155, 255, 255, 250,   3,   1,   0,   0,   0,\n",
              "          0,   0],\n",
              "       [  1,   0,   0,   0,   2,   0,   1,   0,   0,   0,   2,   2,   0,\n",
              "          0,   0,   0,   0,   2, 255, 254, 255,   0,   0,   4,   0,   0,\n",
              "          0,   0],\n",
              "       [  0,   3,   2,   0,   1,   2,   3,   0,   1,   0,   0,   1,   0,\n",
              "          0,   3,   2,   2,   0, 254, 255, 254,   2,   2,   0,   0,   0,\n",
              "          0,   0],\n",
              "       [  0,   0,   0,   6,   0,   0,   0,   1,   0,   2,   0,   2,   0,\n",
              "          3,   0,   0,   0,   1, 254, 255, 252,   3,   0,   2,   0,   0,\n",
              "          0,   0],\n",
              "       [  4,   0,   2,   0,   0,   3,  75, 221, 223,  96,   0,   2,   0,\n",
              "          0,   0,   6,   0, 125, 254, 255, 255,   0,   1,   0,   0,   0,\n",
              "          0,   0],\n",
              "       [  0,   5,   1,   0,   0,   1, 216, 255, 255, 243,  98,   0,   2,\n",
              "          2,   0,  72, 224, 255, 255, 255, 166,   0,   4,   0,   0,   0,\n",
              "          0,   0],\n",
              "       [  0,   0,   0,   5,   2,   1, 126, 253, 255, 254, 255, 255, 255,\n",
              "        255, 255, 255, 255, 255, 253, 183,   9,   1,   0,   0,   0,   0,\n",
              "          0,   0],\n",
              "       [  3,   0,   3,   0,   2,   0,   3, 120, 255, 253, 255, 254, 254,\n",
              "        253, 255, 253, 254, 255, 167,   8,   2,   0,   0,   2,   0,   0,\n",
              "          0,   0],\n",
              "       [  0,   0,   0,   0,   0,   0,   0,   0, 121, 253, 255, 254, 252,\n",
              "        255, 251, 255, 255, 147,   2,   0,   0,   2,   2,   0,   0,   0,\n",
              "          0,   0],\n",
              "       [  0,   0,   0,   0,   0,   0,   0,   0,   0,   7,   0,   2,   1,\n",
              "          0,   0,   0,   0,   3,   0,   1,   0,   0,   0,   0,   0,   0,\n",
              "          0,   0],\n",
              "       [  0,   0,   0,   0,   0,   0,   0,   0,   1,   0,   1,   0,   0,\n",
              "          2,   2,   0,   3,   0,   5,   0,   3,   3,   0,   2,   0,   0,\n",
              "          0,   0],\n",
              "       [  0,   0,   0,   0,   0,   0,   0,   0,   1,   7,   1,   0,   0,\n",
              "          0,   0,   2,   0,   0,   0,   0,   0,   0,   0,   3,   0,   0,\n",
              "          0,   0]], dtype=uint8)</pre></div><script>\n",
              "      (() => {\n",
              "      const titles = ['show data', 'hide data'];\n",
              "      let index = 0\n",
              "      document.querySelector('#id-d71372fb-5c62-4407-8b56-42c52472dd24 button').onclick = (e) => {\n",
              "        document.querySelector('#id-d71372fb-5c62-4407-8b56-42c52472dd24').classList.toggle('show_array');\n",
              "        index = (++index) % 2;\n",
              "        document.querySelector('#id-d71372fb-5c62-4407-8b56-42c52472dd24 button').textContent = titles[index];\n",
              "        e.preventDefault();\n",
              "        e.stopPropagation();\n",
              "      }\n",
              "      })();\n",
              "    </script>"
            ]
          },
          "metadata": {},
          "execution_count": 81
        }
      ]
    },
    {
      "cell_type": "code",
      "source": [
        "img_scl = img.astype('float32')/255"
      ],
      "metadata": {
        "id": "dJPj6X6x345K"
      },
      "execution_count": 83,
      "outputs": []
    },
    {
      "cell_type": "code",
      "source": [
        "\n",
        "probs = model.predict(np.array([img_scl]))"
      ],
      "metadata": {
        "colab": {
          "base_uri": "https://localhost:8080/"
        },
        "id": "0wmqnC1J4CDX",
        "outputId": "18ffd1cf-4b5b-4630-d52e-8ee253989482"
      },
      "execution_count": 84,
      "outputs": [
        {
          "output_type": "stream",
          "name": "stdout",
          "text": [
            "1/1 [==============================] - 0s 184ms/step\n"
          ]
        }
      ]
    },
    {
      "cell_type": "code",
      "source": [
        "probs"
      ],
      "metadata": {
        "colab": {
          "base_uri": "https://localhost:8080/"
        },
        "id": "mboGNl8e4GIB",
        "outputId": "59d67071-f79d-410e-a2d7-09e39d0ba146"
      },
      "execution_count": 85,
      "outputs": [
        {
          "output_type": "execute_result",
          "data": {
            "text/plain": [
              "array([[5.9348260e-22, 4.4536699e-22, 1.2128567e-13, 9.9999952e-01,\n",
              "        2.1590699e-19, 5.0369465e-07, 8.1107786e-20, 5.6823033e-17,\n",
              "        4.8242107e-13, 5.2771183e-13]], dtype=float32)"
            ]
          },
          "metadata": {},
          "execution_count": 85
        }
      ]
    },
    {
      "cell_type": "code",
      "source": [
        "\n",
        "pred = np.argmax(probs)\n",
        "pred"
      ],
      "metadata": {
        "colab": {
          "base_uri": "https://localhost:8080/"
        },
        "id": "oGWAbf4y4Hu8",
        "outputId": "c9116137-6928-4d1d-d3dc-f6c0d59705fa"
      },
      "execution_count": 86,
      "outputs": [
        {
          "output_type": "execute_result",
          "data": {
            "text/plain": [
              "3"
            ]
          },
          "metadata": {},
          "execution_count": 86
        }
      ]
    },
    {
      "cell_type": "code",
      "source": [
        "\n",
        "\n",
        "prob = np.max(probs)\n",
        "prob"
      ],
      "metadata": {
        "colab": {
          "base_uri": "https://localhost:8080/"
        },
        "id": "8B1TqSgP4J5M",
        "outputId": "e3eeb343-8bcb-4c1c-e22b-37c58679df66"
      },
      "execution_count": 91,
      "outputs": [
        {
          "output_type": "execute_result",
          "data": {
            "text/plain": [
              "0.9999995"
            ]
          },
          "metadata": {},
          "execution_count": 91
        }
      ]
    },
    {
      "cell_type": "code",
      "source": [
        "def predict_number(path):\n",
        "  img = cv2.imread(path, cv2.IMREAD_GRAYSCALE)\n",
        "  plt.imshow(img, cmap='gray')\n",
        "  plt.show()\n",
        "  img_scl = img.astype('float32')/255\n",
        "  probs = model.predict(np.array([img_scl]))\n",
        "  pred = np.argmax(probs)\n",
        "  prob = np.max(probs)\n",
        "  return pred, prob\n",
        ""
      ],
      "metadata": {
        "id": "LpDTSekm4LxC"
      },
      "execution_count": 92,
      "outputs": []
    },
    {
      "cell_type": "code",
      "source": [
        "predict_number('/content/example_img2.jpg')"
      ],
      "metadata": {
        "colab": {
          "base_uri": "https://localhost:8080/",
          "height": 465
        },
        "id": "kDXUxgjP4OnS",
        "outputId": "8aa26dec-a004-4660-f200-6ccf00e5a4d5"
      },
      "execution_count": 93,
      "outputs": [
        {
          "output_type": "display_data",
          "data": {
            "text/plain": [
              "<Figure size 640x480 with 1 Axes>"
            ],
            "image/png": "[encoded data removed]"
          },
          "metadata": {}
        },
        {
          "output_type": "stream",
          "name": "stdout",
          "text": [
            "1/1 [==============================] - 0s 17ms/step\n"
          ]
        },
        {
          "output_type": "execute_result",
          "data": {
            "text/plain": [
              "(7, 0.9996911)"
            ]
          },
          "metadata": {},
          "execution_count": 93
        }
      ]
    },
    {
      "cell_type": "code",
      "source": [
        "\n",
        "predict_number('/content/example_img3.jpg')"
      ],
      "metadata": {
        "colab": {
          "base_uri": "https://localhost:8080/",
          "height": 465
        },
        "id": "3sq3sSVe4R0h",
        "outputId": "5bdad977-aa0d-47e4-aecb-d62e483171d2"
      },
      "execution_count": 94,
      "outputs": [
        {
          "output_type": "display_data",
          "data": {
            "text/plain": [
              "<Figure size 640x480 with 1 Axes>"
            ],
            "image/png": "[encoded data removed]"
          },
          "metadata": {}
        },
        {
          "output_type": "stream",
          "name": "stdout",
          "text": [
            "1/1 [==============================] - 0s 17ms/step\n"
          ]
        },
        {
          "output_type": "execute_result",
          "data": {
            "text/plain": [
              "(8, 0.7393507)"
            ]
          },
          "metadata": {},
          "execution_count": 94
        }
      ]
    },
    {
      "cell_type": "code",
      "source": [],
      "metadata": {
        "id": "L1AwXM_24UZX"
      },
      "execution_count": 94,
      "outputs": []
    }
  ]
}